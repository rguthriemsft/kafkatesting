{
 "cells": [
  {
   "cell_type": "code",
   "execution_count": 6,
   "metadata": {},
   "outputs": [
    {
     "name": "stdout",
     "output_type": "stream",
     "text": [
      "python_sample_topic\n"
     ]
    }
   ],
   "source": [
    "\"\"\"Connection configuration pointing to a Kafka cluster\"\"\"\n",
    "from configparser import ConfigParser\n",
    "import os\n",
    "\n",
    "class Configuration:\n",
    "    \"\"\"Simplifies access to configuration file\"\"\"\n",
    "\n",
    "    _config_parser = ConfigParser()\n",
    "\n",
    "    def __init__(self):\n",
    "\n",
    "        with open('./config.ini') as file_handler:\n",
    "            self._config_parser.read_file(file_handler)\n",
    "            self.default = dict(self._config_parser['default'])\n",
    "            self.consumer = dict(self._config_parser['consumer'])\n",
    "            self.topic = dict(self._config_parser['custom_config'])\n",
    "c = Configuration()\n",
    "\n",
    "print(c.topic['topic_name'])"
   ]
  }
 ],
 "metadata": {
  "interpreter": {
   "hash": "e3a99e79d5132c046b7746e57009ab72df457ee9f4e6c2f57edf5bead53a92cd"
  },
  "kernelspec": {
   "display_name": "Python 3.9.7 ('python-3.9-env': venv)",
   "language": "python",
   "name": "python3"
  },
  "language_info": {
   "codemirror_mode": {
    "name": "ipython",
    "version": 3
   },
   "file_extension": ".py",
   "mimetype": "text/x-python",
   "name": "python",
   "nbconvert_exporter": "python",
   "pygments_lexer": "ipython3",
   "version": "3.9.7"
  },
  "orig_nbformat": 4
 },
 "nbformat": 4,
 "nbformat_minor": 2
}
