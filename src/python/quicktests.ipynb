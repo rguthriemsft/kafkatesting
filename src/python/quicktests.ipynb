{
 "cells": [
  {
   "cell_type": "code",
   "execution_count": 4,
   "metadata": {},
   "outputs": [
    {
     "ename": "KeyError",
     "evalue": "'topic'",
     "output_type": "error",
     "traceback": [
      "\u001b[0;31m---------------------------------------------------------------------------\u001b[0m",
      "\u001b[0;31mKeyError\u001b[0m                                  Traceback (most recent call last)",
      "\u001b[1;32m/workspaces/kafkatesting/src/python/quicktests.ipynb Cell 1'\u001b[0m in \u001b[0;36m<cell line: 17>\u001b[0;34m()\u001b[0m\n\u001b[1;32m     <a href='vscode-notebook-cell://codespaces%2Bms-santi-rguthriemsft-kafkatesting-qvgxw6wj2q9v/workspaces/kafkatesting/src/python/quicktests.ipynb#ch0000000vscode-remote?line=14'>15</a>\u001b[0m             \u001b[39mself\u001b[39m\u001b[39m.\u001b[39mconsumer \u001b[39m=\u001b[39m \u001b[39mdict\u001b[39m(\u001b[39mself\u001b[39m\u001b[39m.\u001b[39m_config_parser[\u001b[39m'\u001b[39m\u001b[39mconsumer\u001b[39m\u001b[39m'\u001b[39m])\n\u001b[1;32m     <a href='vscode-notebook-cell://codespaces%2Bms-santi-rguthriemsft-kafkatesting-qvgxw6wj2q9v/workspaces/kafkatesting/src/python/quicktests.ipynb#ch0000000vscode-remote?line=15'>16</a>\u001b[0m             \u001b[39mself\u001b[39m\u001b[39m.\u001b[39mtopic \u001b[39m=\u001b[39m \u001b[39mdict\u001b[39m(\u001b[39mself\u001b[39m\u001b[39m.\u001b[39m_config_parser[\u001b[39m'\u001b[39m\u001b[39mtopic\u001b[39m\u001b[39m'\u001b[39m])\n\u001b[0;32m---> <a href='vscode-notebook-cell://codespaces%2Bms-santi-rguthriemsft-kafkatesting-qvgxw6wj2q9v/workspaces/kafkatesting/src/python/quicktests.ipynb#ch0000000vscode-remote?line=16'>17</a>\u001b[0m c \u001b[39m=\u001b[39m Configuration()\n\u001b[1;32m     <a href='vscode-notebook-cell://codespaces%2Bms-santi-rguthriemsft-kafkatesting-qvgxw6wj2q9v/workspaces/kafkatesting/src/python/quicktests.ipynb#ch0000000vscode-remote?line=18'>19</a>\u001b[0m \u001b[39mprint\u001b[39m(c\u001b[39m.\u001b[39mtopic[\u001b[39m'\u001b[39m\u001b[39mname\u001b[39m\u001b[39m'\u001b[39m])\n",
      "\u001b[1;32m/workspaces/kafkatesting/src/python/quicktests.ipynb Cell 1'\u001b[0m in \u001b[0;36mConfiguration.__init__\u001b[0;34m(self)\u001b[0m\n\u001b[1;32m     <a href='vscode-notebook-cell://codespaces%2Bms-santi-rguthriemsft-kafkatesting-qvgxw6wj2q9v/workspaces/kafkatesting/src/python/quicktests.ipynb#ch0000000vscode-remote?line=13'>14</a>\u001b[0m \u001b[39mself\u001b[39m\u001b[39m.\u001b[39mdefault \u001b[39m=\u001b[39m \u001b[39mdict\u001b[39m(\u001b[39mself\u001b[39m\u001b[39m.\u001b[39m_config_parser[\u001b[39m'\u001b[39m\u001b[39mdefault\u001b[39m\u001b[39m'\u001b[39m])\n\u001b[1;32m     <a href='vscode-notebook-cell://codespaces%2Bms-santi-rguthriemsft-kafkatesting-qvgxw6wj2q9v/workspaces/kafkatesting/src/python/quicktests.ipynb#ch0000000vscode-remote?line=14'>15</a>\u001b[0m \u001b[39mself\u001b[39m\u001b[39m.\u001b[39mconsumer \u001b[39m=\u001b[39m \u001b[39mdict\u001b[39m(\u001b[39mself\u001b[39m\u001b[39m.\u001b[39m_config_parser[\u001b[39m'\u001b[39m\u001b[39mconsumer\u001b[39m\u001b[39m'\u001b[39m])\n\u001b[0;32m---> <a href='vscode-notebook-cell://codespaces%2Bms-santi-rguthriemsft-kafkatesting-qvgxw6wj2q9v/workspaces/kafkatesting/src/python/quicktests.ipynb#ch0000000vscode-remote?line=15'>16</a>\u001b[0m \u001b[39mself\u001b[39m\u001b[39m.\u001b[39mtopic \u001b[39m=\u001b[39m \u001b[39mdict\u001b[39m(\u001b[39mself\u001b[39;49m\u001b[39m.\u001b[39;49m_config_parser[\u001b[39m'\u001b[39;49m\u001b[39mtopic\u001b[39;49m\u001b[39m'\u001b[39;49m])\n",
      "File \u001b[0;32m/opt/python/3.9.7/lib/python3.9/configparser.py:963\u001b[0m, in \u001b[0;36mRawConfigParser.__getitem__\u001b[0;34m(self, key)\u001b[0m\n\u001b[1;32m    <a href='file:///opt/python/3.9.7/lib/python3.9/configparser.py?line=960'>961</a>\u001b[0m \u001b[39mdef\u001b[39;00m \u001b[39m__getitem__\u001b[39m(\u001b[39mself\u001b[39m, key):\n\u001b[1;32m    <a href='file:///opt/python/3.9.7/lib/python3.9/configparser.py?line=961'>962</a>\u001b[0m     \u001b[39mif\u001b[39;00m key \u001b[39m!=\u001b[39m \u001b[39mself\u001b[39m\u001b[39m.\u001b[39mdefault_section \u001b[39mand\u001b[39;00m \u001b[39mnot\u001b[39;00m \u001b[39mself\u001b[39m\u001b[39m.\u001b[39mhas_section(key):\n\u001b[0;32m--> <a href='file:///opt/python/3.9.7/lib/python3.9/configparser.py?line=962'>963</a>\u001b[0m         \u001b[39mraise\u001b[39;00m \u001b[39mKeyError\u001b[39;00m(key)\n\u001b[1;32m    <a href='file:///opt/python/3.9.7/lib/python3.9/configparser.py?line=963'>964</a>\u001b[0m     \u001b[39mreturn\u001b[39;00m \u001b[39mself\u001b[39m\u001b[39m.\u001b[39m_proxies[key]\n",
      "\u001b[0;31mKeyError\u001b[0m: 'topic'"
     ]
    },
    {
     "name": "stderr",
     "output_type": "stream",
     "text": [
      "Bad pipe message: %s [b'D: 78fbdc368283108326974793dad60317\\r\\nX-Real-', b': 24.35.86.203\\r\\nX-Forwarded-For: 24.35.86.203\\r\\nX-Forwarded-Host: ms-sant']\n",
      "Bad pipe message: %s [b'rguthriemsft-kafkatesting-qvgxw6wj2q9v-42507.githubpreview.dev\\r\\nX-Forwarded-Port: 443\\r\\nX-Forwarded-Proto', b'https\\r\\nX-Original-URI: /\\r\\nX-Scheme: https\\r\\nConnection: cl']\n",
      "Bad pipe message: %s [b'e\\r\\ncache-control: max-age=0\\r\\nupgrade-insecure-requests: 1\\r\\nuser-agent: Mozilla/5.0 (Windows NT 10.0; Win64; x6', b' AppleWebKit/537.36 (KHTML, like Gecko) Chrome/101.', b'4951.54 Safari/537.36 Edg/101.0.1210.39\\r\\naccept']\n",
      "Bad pipe message: %s [b'text/html,application/xhtml+xml,application/xml;q=0.9,ima']\n",
      "Bad pipe message: %s [b'/webp,image/apng,*/*;q=0.8,application/signed-exchange;v=b3;q=0.9\\r\\nsec-fetch-site: cross-site\\r\\nsec-fet', b'-mode: navigate\\r\\nsec-fetch-dest: document\\r\\nsec-ch-ua: \" Not A;Brand\";v=\"99\", \"Chromium\";v=\"101\", \"']\n",
      "Bad pipe message: %s [b'X-Request-ID']\n",
      "Bad pipe message: %s [b'5ffb4b5286447de910d1ca15fe687d3e\\r\\nX-Real-IP: 24.35.86.203']\n",
      "Bad pipe message: %s [b'X-Forwarded-']\n",
      "Bad pipe message: %s [b'r: 24.35.86.203\\r\\nX-Forwarded-Host: ms-santi-rguthriemsft-kafkatesting', b'vgxw6wj2q9v-42507.githubpreview.dev\\r\\nX-Forwa', b'ed-Port: 443\\r\\nX-Forwarded-Proto: https\\r\\nX-Original-URI: /favicon.ico\\r\\nX-Scheme: https\\r\\nConnection: close\\r\\nsec-ch-']\n",
      "Bad pipe message: %s [b': \" Not A;Brand\";v=\"99\", \"Chromium\";v=\"101\", \"Microsoft Edge\";v=\"101\"\\r\\nsec-ch-ua-mobile: ?0\\r\\nuser-agent: Mozilla/5.0', b'Windows NT 10.0; Win64; x64) Ap']\n",
      "Bad pipe message: %s [b'eWebKit/537.36 (KHTML, like Gecko) Chrome/101.0.4951.54 Safari/537.36 Edg/101.0.1210.39\\r\\nsec-ch-ua-platform: \"W']\n",
      "Bad pipe message: %s [b'dows\"\\r\\naccept: image/webp,image/apng,image/svg+xml,image/*,*/*;q=0.8\\r\\nsec-fetch-site: same-origin\\r\\nsec-f']\n",
      "Bad pipe message: %s [b'ch-mode: no-cors\\r\\nsec-fetch-dest: image\\r\\nreferer: https://ms-santi-rguthriemsft-kafkatesting-qvgxw6w']\n",
      "Bad pipe message: %s [b'D: 4e13400807f23a2813593646e61cf9e8\\r\\nX-Real-', b': 24.35.86.203\\r\\nX-Forwarded-For: 24.35.86.203\\r\\nX-Forwarded-Host: ms-sant']\n",
      "Bad pipe message: %s [b'rguthriemsft-kafkatesting-qvgxw6wj2q9v-42507.githubpreview.dev\\r\\nX-Forwarded-Port: 443\\r\\nX-Forwarded-Proto', b'https\\r\\nX-Original-URI: /\\r\\nX-Scheme: https\\r\\nConnection: cl']\n",
      "Bad pipe message: %s [b'e\\r\\ncache-control: max-age=0\\r\\nsec-ch-ua: \" Not A;Brand\";v=\"99\", \"Chromium\";v=\"101\", \"Microsoft Edge\";v=\"101\"\\r\\ns', b'-ch-ua-mobile: ?0\\r\\nsec-ch-ua-platform: \"Windows\"\\r\\nupgrade-insecure-requests: 1\\r\\nuser-agent: Mozilla/', b'0 (Windows NT 10.0; Win64; x64) AppleWebKit/537.36 (']\n",
      "Bad pipe message: %s [b'TML, like Gecko) Chrome/101.0.4951.54 Safari/537.36 Edg/101.0.1210.39\\r\\nacc']\n",
      "Bad pipe message: %s [b't: text/html,application/xhtml+xml,application/xml;q=0.9,image/webp,image/apng,*/*;q=0.8,application']\n",
      "Bad pipe message: %s [b'igned-exchange;v=b3;q=0.9\\r\\nsec-fetch-site: cro', b'-site\\r\\nsec-fetch-mode: navigate\\r\\nsec-fetch-user: ?1\\r\\nsec-fetch-dest: document\\r\\nreferer: https://auth.githubpreview', b'ev/\\r\\naccept-encoding: gzip, deflate, br\\r\\nacce']\n",
      "Bad pipe message: %s [b'a5f449db3f5f7e0a\\r\\nX-Real-IP: 24.35.86.203\\r\\nX-Forwarded-F', b': 24.35.86.203\\r\\nX-Forwarded-Host: ms-santi-rguthriemsft-kafkatesting-qvgxw6wj2q9v-42507.githubpreview.dev\\r\\nX-F']\n",
      "Bad pipe message: %s [b'warded-Port: 443\\r\\nX-Forwarded-Proto: https\\r\\nX-Original-URI: /favicon.ico\\r\\nX-Scheme: https\\r\\nConnection: Keep-Al']\n",
      "Bad pipe message: %s [b'e\\r\\nProxy-Connection: Keep-Alive\\r\\nsec-ch-ua: \" Not A;Brand\";v=\"99\", \"Chromium\";v=\"101\", \"Microsoft Edge\";']\n"
     ]
    }
   ],
   "source": [
    "\"\"\"Connection configuration pointing to a Kafka cluster\"\"\"\n",
    "from configparser import ConfigParser\n",
    "import os\n",
    "\n",
    "class Configuration:\n",
    "    \"\"\"Simplifies access to configuration file\"\"\"\n",
    "\n",
    "    _config_parser = ConfigParser()\n",
    "\n",
    "    def __init__(self):\n",
    "\n",
    "        with open('./config.ini') as file_handler:\n",
    "            self._config_parser.read_file(file_handler)\n",
    "            self.default = dict(self._config_parser['default'])\n",
    "            self.consumer = dict(self._config_parser['consumer'])\n",
    "            self.topic = dict(self._config_parser['topic'])\n",
    "c = Configuration()\n",
    "\n",
    "print(c.topic['name'])"
   ]
  }
 ],
 "metadata": {
  "interpreter": {
   "hash": "e3a99e79d5132c046b7746e57009ab72df457ee9f4e6c2f57edf5bead53a92cd"
  },
  "kernelspec": {
   "display_name": "Python 3.9.7 ('python-3.9-env': venv)",
   "language": "python",
   "name": "python3"
  },
  "language_info": {
   "codemirror_mode": {
    "name": "ipython",
    "version": 3
   },
   "file_extension": ".py",
   "mimetype": "text/x-python",
   "name": "python",
   "nbconvert_exporter": "python",
   "pygments_lexer": "ipython3",
   "version": "3.9.7"
  },
  "orig_nbformat": 4
 },
 "nbformat": 4,
 "nbformat_minor": 2
}
